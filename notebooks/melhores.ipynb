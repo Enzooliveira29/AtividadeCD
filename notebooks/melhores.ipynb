{
 "cells": [
  {
   "cell_type": "code",
   "execution_count": 7,
   "id": "b25b2295",
   "metadata": {},
   "outputs": [
    {
     "ename": "ModuleNotFoundError",
     "evalue": "No module named 'pandas'",
     "output_type": "error",
     "traceback": [
      "\u001b[31m---------------------------------------------------------------------------\u001b[39m",
      "\u001b[31mModuleNotFoundError\u001b[39m                       Traceback (most recent call last)",
      "\u001b[36mCell\u001b[39m\u001b[36m \u001b[39m\u001b[32mIn[7]\u001b[39m\u001b[32m, line 1\u001b[39m\n\u001b[32m----> \u001b[39m\u001b[32m1\u001b[39m \u001b[38;5;28;01mimport\u001b[39;00m\u001b[38;5;250m \u001b[39m\u001b[34;01mpandas\u001b[39;00m\u001b[38;5;250m \u001b[39m\u001b[38;5;28;01mas\u001b[39;00m\u001b[38;5;250m \u001b[39m\u001b[34;01mpd\u001b[39;00m\n\u001b[32m      2\u001b[39m \u001b[38;5;28;01mimport\u001b[39;00m\u001b[38;5;250m \u001b[39m\u001b[34;01mmatplotlib\u001b[39;00m\u001b[34;01m.\u001b[39;00m\u001b[34;01mpyplot\u001b[39;00m\u001b[38;5;250m \u001b[39m\u001b[38;5;28;01mas\u001b[39;00m\u001b[38;5;250m \u001b[39m\u001b[34;01mplt\u001b[39;00m\n",
      "\u001b[31mModuleNotFoundError\u001b[39m: No module named 'pandas'"
     ]
    }
   ],
   "source": [
    "import pandas as pd\n",
    "import matplotlib.pyplot as plt"
   ]
  },
  {
   "cell_type": "code",
   "execution_count": null,
   "id": "3168ff90",
   "metadata": {},
   "outputs": [],
   "source": [
    "df = pd.read_csv(\"data/imdb_melhores.csv\")\n",
    "print(df.head())"
   ]
  },
  {
   "cell_type": "code",
   "execution_count": null,
   "id": "40310abd",
   "metadata": {},
   "outputs": [],
   "source": [
    "# 2. Ver informações básicas\n",
    "print(\"Colunas disponíveis:\", df.columns)\n",
    "print(\"\\nTotal de registros:\", len(df))\n",
    "print(\"\\nResumo do dataset:\")\n",
    "print(df.info())"
   ]
  },
  {
   "cell_type": "code",
   "execution_count": null,
   "id": "852ec065",
   "metadata": {},
   "outputs": [],
   "source": [
    "print(df.describe())"
   ]
  },
  {
   "cell_type": "code",
   "execution_count": null,
   "id": "848fe823",
   "metadata": {},
   "outputs": [],
   "source": [
    "# Mostrar as 10 primeiras linhas\n",
    "print(df.head(10))\n",
    "\n",
    "# Mostrar as 10 últimas linhas\n",
    "print(df.tail(10))"
   ]
  },
  {
   "cell_type": "code",
   "execution_count": null,
   "id": "978fb9f5",
   "metadata": {},
   "outputs": [],
   "source": [
    "# Ver valores únicos de uma coluna\n",
    "print(df['genre'].unique())\n",
    "\n",
    "# Contar quantos filmes por gênero\n",
    "print(df['genre'].value_counts())"
   ]
  },
  {
   "cell_type": "code",
   "execution_count": null,
   "id": "00ed1809",
   "metadata": {},
   "outputs": [],
   "source": [
    "# 3. Verificar se há dados faltantes\n",
    "print(\"\\nValores faltantes por coluna:\")\n",
    "print(df.isnull().sum())"
   ]
  },
  {
   "cell_type": "code",
   "execution_count": null,
   "id": "ccd16ba3",
   "metadata": {},
   "outputs": [],
   "source": [
    "# Filtrar filmes com nota maior que 8.5\n",
    "melhores = df[df['rating_imdb'] > 8.5]\n",
    "\n",
    "# Ordenar pelo rating (nota)\n",
    "ordenado = df.sort_values(by='rating_imdb', ascending=False)\n",
    "\n",
    "# Mostrar os 10 melhores\n",
    "print(ordenado.head(10))"
   ]
  },
  {
   "cell_type": "code",
   "execution_count": null,
   "id": "0272ec37",
   "metadata": {},
   "outputs": [],
   "source": [
    "df_unico = df.drop_duplicates()"
   ]
  },
  {
   "cell_type": "code",
   "execution_count": null,
   "id": "d193408d",
   "metadata": {},
   "outputs": [],
   "source": [
    "#Distribuição das notas IMDb\n",
    "plt.figure(figsize=(8,5))\n",
    "plt.hist(df_unico['rating_imdb'].dropna(), bins=20, color='skyblue', edgecolor='black')\n",
    "plt.title('Distribuição das Notas IMDb')\n",
    "plt.xlabel('Nota (rating_imdb)')\n",
    "plt.ylabel('Quantidade de Filmes')\n",
    "plt.show()"
   ]
  },
  {
   "cell_type": "code",
   "execution_count": null,
   "id": "64be830d",
   "metadata": {},
   "outputs": [],
   "source": [
    "#Top 10 filmes mais bem avaliados\n",
    "top10 = df_unico.sort_values(by='rating_imdb', ascending=False).head(10)\n",
    "plt.figure(figsize=(10,6))\n",
    "plt.barh(top10['title'], top10['rating_imdb'], color='red')\n",
    "plt.title('Top 10 Filmes Mais Bem Avaliados')\n",
    "plt.xlabel('Nota IMDb')\n",
    "plt.ylabel('Filme')\n",
    "plt.gca().invert_yaxis()\n",
    "plt.show()"
   ]
  },
  {
   "cell_type": "code",
   "execution_count": null,
   "id": "db587f65",
   "metadata": {},
   "outputs": [],
   "source": [
    "#Top 10 gêneros mais frequentes\n",
    "plt.figure(figsize=(10,5))\n",
    "df_unico['genre'].value_counts().head(10).plot(kind='bar', color='purple')\n",
    "plt.title('Top 10 Gêneros Mais Frequentes')\n",
    "plt.xlabel('Gênero')\n",
    "plt.ylabel('Quantidade de Filmes')\n",
    "plt.show()"
   ]
  }
 ],
 "metadata": {
  "kernelspec": {
   "display_name": ".venv",
   "language": "python",
   "name": "python3"
  },
  "language_info": {
   "codemirror_mode": {
    "name": "ipython",
    "version": 3
   },
   "file_extension": ".py",
   "mimetype": "text/x-python",
   "name": "python",
   "nbconvert_exporter": "python",
   "pygments_lexer": "ipython3",
   "version": "3.13.1"
  }
 },
 "nbformat": 4,
 "nbformat_minor": 5
}
