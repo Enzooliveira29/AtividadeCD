{
 "cells": [
  {
   "cell_type": "code",
   "execution_count": null,
   "id": "a77011bf",
   "metadata": {},
   "outputs": [],
   "source": [
    "import pandas as pd\n",
    "import matplotlib.pyplot as plt\n",
    "\n",
    "df = pd.read_csv('disney_movies.csv')"
   ]
  },
  {
   "cell_type": "code",
   "execution_count": null,
   "id": "7572bd36",
   "metadata": {},
   "outputs": [],
   "source": [
    "# 2. Ver informações básicas\n",
    "print(\"Colunas disponíveis:\", df.columns)\n",
    "print(\"\\nTotal de registros:\", len(df))\n",
    "print(\"\\nResumo do dataset:\")\n",
    "print(df.info())"
   ]
  },
  {
   "cell_type": "code",
   "execution_count": null,
   "id": "25c7b1e6",
   "metadata": {},
   "outputs": [],
   "source": [
    "# 3. Verificar valores faltantes (mas sem remover nada)\n",
    "print(\"\\nValores faltantes por coluna:\")\n",
    "print(df.isnull().sum())"
   ]
  },
  {
   "cell_type": "code",
   "execution_count": null,
   "id": "3025b810",
   "metadata": {},
   "outputs": [],
   "source": [
    "# Remover símbolos e converter para número\n",
    "df['inflation_adjusted_gross'] = (\n",
    "    df['inflation_adjusted_gross']\n",
    "    .replace('[\\$,]', '', regex=True)   # remove $ e vírgulas\n",
    "    .astype(float)                      # converte para float\n",
    ")"
   ]
  },
  {
   "cell_type": "code",
   "execution_count": null,
   "id": "e7b680ca",
   "metadata": {},
   "outputs": [],
   "source": [
    "# 4. Gráfico 1 — Distribuição da bilheteria ajustada pela inflação\n",
    "plt.figure(figsize=(8,5))\n",
    "plt.hist(df['inflation_adjusted_gross'].dropna(), bins=20, color='skyblue', edgecolor='black')\n",
    "plt.title('Distribuição da Bilheteria Ajustada (Disney)')\n",
    "plt.xlabel('Bilheteria Ajustada ($)')\n",
    "plt.ylabel('Quantidade de Filmes')\n",
    "plt.show()\n"
   ]
  },
  {
   "cell_type": "code",
   "execution_count": null,
   "id": "949d0772",
   "metadata": {},
   "outputs": [],
   "source": [
    "# 5. Gráfico 2 — Top 10 filmes da Disney com maior bilheteria ajustada\n",
    "top10 = df.sort_values(by='inflation_adjusted_gross', ascending=False).head(10)\n",
    "\n",
    "plt.figure(figsize=(10,6))\n",
    "plt.barh(top10['movie_title'], top10['inflation_adjusted_gross'], color='lightgreen')\n",
    "plt.title('Top 10 Filmes da Disney por Bilheteria Ajustada')\n",
    "plt.xlabel('Bilheteria Ajustada ($)')\n",
    "plt.ylabel('Filme')\n",
    "plt.gca().invert_yaxis()\n",
    "plt.show()\n"
   ]
  },
  {
   "cell_type": "code",
   "execution_count": null,
   "id": "eddf197f",
   "metadata": {},
   "outputs": [],
   "source": [
    "# 6. Gráfico 3 — Gêneros mais frequentes\n",
    "plt.figure(figsize=(10,5))\n",
    "df['genre'].value_counts().head(10).plot(kind='bar', color='salmon')\n",
    "plt.title('Top 10 Gêneros Mais Frequentes (Disney)')\n",
    "plt.xlabel('Gênero')\n",
    "plt.ylabel('Quantidade de Filmes')\n",
    "plt.show()\n"
   ]
  },
  {
   "cell_type": "code",
   "execution_count": null,
   "id": "dc665b47",
   "metadata": {},
   "outputs": [],
   "source": [
    "# 7. (Opcional) Gráfico 4 — Quantidade de filmes lançados por ano\n",
    "# Primeiro, extrair o ano da coluna de data, se possível\n",
    "df['year'] = pd.to_datetime(df['release_date'], errors='coerce').dt.year\n",
    "\n",
    "plt.figure(figsize=(10,5))\n",
    "df['year'].value_counts().sort_index().plot(kind='line', marker='o', color='mediumpurple')\n",
    "plt.title('Quantidade de Filmes Lançados por Ano (Disney)')\n",
    "plt.xlabel('Ano')\n",
    "plt.ylabel('Quantidade de Filmes')\n",
    "plt.grid(True)\n",
    "plt.show()"
   ]
  },
  {
   "cell_type": "code",
   "execution_count": null,
   "id": "6176d11c",
   "metadata": {},
   "outputs": [],
   "source": [
    "print(df['year'].unique())\n",
    "print(df['year'].value_counts())\n"
   ]
  }
 ],
 "metadata": {
  "kernelspec": {
   "display_name": "venv",
   "language": "python",
   "name": "python3"
  },
  "language_info": {
   "codemirror_mode": {
    "name": "ipython",
    "version": 3
   },
   "file_extension": ".py",
   "mimetype": "text/x-python",
   "name": "python",
   "nbconvert_exporter": "python",
   "pygments_lexer": "ipython3",
   "version": "3.13.0"
  }
 },
 "nbformat": 4,
 "nbformat_minor": 5
}
