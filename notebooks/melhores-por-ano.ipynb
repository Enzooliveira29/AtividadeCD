{
 "cells": [
  {
   "cell_type": "code",
   "execution_count": null,
   "id": "b25b2295",
   "metadata": {},
   "outputs": [],
   "source": [
    "import pandas as pd\n",
    "import matplotlib.pyplot as plt"
   ]
  },
  {
   "cell_type": "code",
   "execution_count": null,
   "id": "3168ff90",
   "metadata": {},
   "outputs": [],
   "source": [
    "df = pd.read_csv(\"data/imdb_melhores.csv\")\n",
    "print(df.head())"
   ]
  },
  {
   "cell_type": "code",
   "execution_count": null,
   "id": "40310abd",
   "metadata": {},
   "outputs": [],
   "source": [
    "# 2. Ver informações básicas\n",
    "print(\"Colunas disponíveis:\", df.columns)\n",
    "print(\"\\nTotal de registros:\", len(df))\n",
    "print(\"\\nResumo do dataset:\")\n",
    "print(df.info())"
   ]
  },
  {
   "cell_type": "code",
   "execution_count": null,
   "id": "852ec065",
   "metadata": {},
   "outputs": [],
   "source": [
    "print(df.describe())"
   ]
  },
  {
   "cell_type": "code",
   "execution_count": null,
   "id": "848fe823",
   "metadata": {},
   "outputs": [],
   "source": [
    "# Mostrar as 10 primeiras linhas\n",
    "print(df.head(10))\n",
    "\n",
    "# Mostrar as 10 últimas linhas\n",
    "print(df.tail(10))"
   ]
  },
  {
   "cell_type": "code",
   "execution_count": null,
   "id": "978fb9f5",
   "metadata": {},
   "outputs": [],
   "source": [
    "# Ver valores únicos de uma coluna\n",
    "print(df['genre'].unique())\n",
    "\n",
    "# Contar quantos filmes por gênero\n",
    "print(df['genre'].value_counts())"
   ]
  },
  {
   "cell_type": "code",
   "execution_count": null,
   "id": "00ed1809",
   "metadata": {},
   "outputs": [],
   "source": [
    "# 3. Verificar se há dados faltantes\n",
    "print(\"\\nValores faltantes por coluna:\")\n",
    "print(df.isnull().sum())"
   ]
  },
  {
   "cell_type": "code",
   "execution_count": null,
   "id": "ccd16ba3",
   "metadata": {},
   "outputs": [],
   "source": [
    "# Filtrar filmes com nota maior que 8.5\n",
    "melhores = df[df['rating_imdb'] > 8.5]\n",
    "\n",
    "# Ordenar pelo rating (nota)\n",
    "ordenado = df.sort_values(by='rating_imdb', ascending=False)\n",
    "\n",
    "# Mostrar os 10 melhores\n",
    "print(ordenado.head(10))"
   ]
  },
  {
   "cell_type": "code",
   "execution_count": null,
   "id": "0272ec37",
   "metadata": {},
   "outputs": [],
   "source": [
    "df_unico = df.drop_duplicates()"
   ]
  },
  {
   "cell_type": "code",
   "execution_count": null,
   "id": "d193408d",
   "metadata": {},
   "outputs": [],
   "source": [
    "#Distribuição das notas IMDb\n",
    "plt.figure(figsize=(8,5))\n",
    "plt.hist(df_unico['rating_imdb'].dropna(), bins=20, color='skyblue', edgecolor='black')\n",
    "plt.title('Distribuição das Notas IMDb')\n",
    "plt.xlabel('Nota (rating_imdb)')\n",
    "plt.ylabel('Quantidade de Filmes')\n",
    "plt.show()"
   ]
  },
  {
   "cell_type": "code",
   "execution_count": null,
   "id": "64be830d",
   "metadata": {},
   "outputs": [],
   "source": [
    "#Top 10 filmes mais bem avaliados\n",
    "top10 = df_unico.sort_values(by='rating_imdb', ascending=False).head(10)\n",
    "plt.figure(figsize=(10,6))\n",
    "plt.barh(top10['title'], top10['rating_imdb'], color='red')\n",
    "plt.title('Top 10 Filmes Mais Bem Avaliados')\n",
    "plt.xlabel('Nota IMDb')\n",
    "plt.ylabel('Filme')\n",
    "plt.gca().invert_yaxis()\n",
    "plt.show()"
   ]
  },
  {
   "cell_type": "code",
   "execution_count": null,
   "id": "db587f65",
   "metadata": {},
   "outputs": [],
   "source": [
    "#Top 10 gêneros mais frequentes\n",
    "plt.figure(figsize=(10,5))\n",
    "df_unico['genre'].value_counts().head(10).plot(kind='bar', color='purple')\n",
    "plt.title('Top 10 Gêneros Mais Frequentes')\n",
    "plt.xlabel('Gênero')\n",
    "plt.ylabel('Quantidade de Filmes')\n",
    "plt.show()"
   ]
  }
 ],
 "metadata": {
  "kernelspec": {
   "display_name": "Python 3",
   "language": "python",
   "name": "python3"
  },
  "language_info": {
   "codemirror_mode": {
    "name": "ipython",
    "version": 3
   },
   "file_extension": ".py",
   "mimetype": "text/x-python",
   "name": "python",
   "nbconvert_exporter": "python",
   "pygments_lexer": "ipython3",
   "version": "3.13.0"
  }
 },
 "nbformat": 4,
 "nbformat_minor": 5
}
