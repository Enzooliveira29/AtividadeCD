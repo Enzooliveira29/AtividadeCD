{
 "cells": [
  {
   "cell_type": "code",
   "execution_count": null,
   "id": "1c67bb47",
   "metadata": {},
   "outputs": [],
   "source": [
    "import pandas as pd\n",
    "import matplotlib.pyplot as plt\n",
    "import seaborn as sns\n",
    "\n",
    "movies = pd.read_csv(\"data/movies.csv\")  \n",
    "ratings = pd.read_csv(\"data/ratings.csv\")"
   ]
  },
  {
   "cell_type": "code",
   "execution_count": null,
   "id": "1f924e80",
   "metadata": {},
   "outputs": [],
   "source": [
    "print(movies.head())\n",
    "print(ratings.head())"
   ]
  },
  {
   "cell_type": "code",
   "execution_count": null,
   "id": "6f27cce1",
   "metadata": {},
   "outputs": [],
   "source": [
    "print(movies.columns)\n",
    "print(ratings.columns)"
   ]
  },
  {
   "cell_type": "code",
   "execution_count": null,
   "id": "3f29dbbc",
   "metadata": {},
   "outputs": [],
   "source": [
    "ratings_sample = ratings.sample(100000, random_state=42)  # 100 mil linhas"
   ]
  },
  {
   "cell_type": "code",
   "execution_count": null,
   "id": "c9e512b6",
   "metadata": {},
   "outputs": [],
   "source": [
    "print(\"Movies columns:\", movies.columns)\n",
    "print(\"Ratings columns:\", ratings_sample.columns)"
   ]
  },
  {
   "cell_type": "code",
   "execution_count": null,
   "id": "9acb0e1e",
   "metadata": {},
   "outputs": [],
   "source": [
    "print(movies.head())\n",
    "print(ratings_sample.head())"
   ]
  },
  {
   "cell_type": "code",
   "execution_count": null,
   "id": "ffb21f49",
   "metadata": {},
   "outputs": [],
   "source": [
    "movies.info()\n",
    "ratings_sample.info()"
   ]
  },
  {
   "cell_type": "code",
   "execution_count": null,
   "id": "c16a67ff",
   "metadata": {},
   "outputs": [],
   "source": [
    "ratings_sample.describe()  # média, min, max, desvio padrão das notas"
   ]
  },
  {
   "cell_type": "code",
   "execution_count": null,
   "id": "60671033",
   "metadata": {},
   "outputs": [],
   "source": [
    "# Histograma das avaliações\n",
    "plt.figure(figsize=(8,6))\n",
    "sns.histplot(ratings_sample['rating'], bins=10, kde=False, color='skyblue')\n",
    "plt.title(\"Distribuição das Avaliações\")\n",
    "plt.xlabel(\"Nota\")\n",
    "plt.ylabel(\"Frequência\")\n",
    "plt.show()"
   ]
  },
  {
   "cell_type": "code",
   "execution_count": null,
   "id": "821b729e",
   "metadata": {},
   "outputs": [],
   "source": [
    "# Agrupar e contar avaliações por filme\n",
    "ratings_count = ratings_sample.groupby('movieId')['rating'].count().sort_values(ascending=False)\n",
    "\n",
    "# Juntar com os títulos dos filmes\n",
    "ratings_with_titles = pd.merge(\n",
    "    ratings_count.head(20).reset_index(),\n",
    "    movies[['movieId', 'title']],\n",
    "    on='movieId'\n",
    ")"
   ]
  },
  {
   "cell_type": "code",
   "execution_count": null,
   "id": "1b8d39d4",
   "metadata": {},
   "outputs": [],
   "source": [
    "# Plotar usando os títulos\n",
    "plt.figure(figsize=(10,6))\n",
    "plt.bar(ratings_with_titles['title'], ratings_with_titles['rating'], color='salmon')\n",
    "plt.title(\"Top 20 Filmes com Mais Avaliações (Amostra)\")\n",
    "plt.xlabel(\"Título do Filme\")\n",
    "plt.ylabel(\"Número de Avaliações\")\n",
    "plt.xticks(rotation=75, ha='right')\n",
    "plt.tight_layout()\n",
    "plt.show()"
   ]
  },
  {
   "cell_type": "code",
   "execution_count": null,
   "id": "761dd7d1",
   "metadata": {},
   "outputs": [],
   "source": [
    "# Agrupar e contar avaliações por usuário\n",
    "user_count = ratings_sample.groupby('userId')['rating'].count().sort_values(ascending=False)\n",
    "\n",
    "plt.figure(figsize=(10,6))\n",
    "user_count.head(20).plot(kind='bar', color='lightgreen')\n",
    "plt.title(\"Top 20 Usuários com Mais Avaliações (Amostra)\")\n",
    "plt.xlabel(\"User ID\")\n",
    "plt.ylabel(\"Número de Avaliações\")\n",
    "plt.show()"
   ]
  },
  {
   "cell_type": "code",
   "execution_count": null,
   "id": "a31a8ffd",
   "metadata": {},
   "outputs": [],
   "source": [
    "# Criar lista de todos os gêneros\n",
    "all_genres = movies['genres'].str.split('|').explode()\n",
    "genre_counts = all_genres.value_counts()\n",
    "\n",
    "plt.figure(figsize=(10,6))\n",
    "sns.barplot(x=genre_counts.index, y=genre_counts.values, hue=genre_counts.index, palette='viridis', legend=False)\n",
    "plt.title(\"Número de Filmes por Gênero\")\n",
    "plt.xlabel(\"Gênero\")\n",
    "plt.ylabel(\"Número de Filmes\")\n",
    "plt.xticks(rotation=45)\n",
    "plt.show()"
   ]
  },
  {
   "cell_type": "code",
   "execution_count": 6,
   "id": "96990bac",
   "metadata": {},
   "outputs": [
    {
     "name": "stdout",
     "output_type": "stream",
     "text": [
      "movies.csv:\n",
      "movieId    0\n",
      "title      0\n",
      "genres     0\n",
      "dtype: int64\n",
      "\n",
      "ratings.csv:\n",
      "userId       0\n",
      "movieId      0\n",
      "rating       0\n",
      "timestamp    0\n",
      "dtype: int64\n"
     ]
    }
   ],
   "source": [
    "# Ver quantidade de valores faltantes por coluna\n",
    "print(\"movies.csv:\")\n",
    "print(movies.isna().sum())\n",
    "\n",
    "print(\"\\nratings.csv:\")\n",
    "print(ratings.isna().sum())"
   ]
  }
 ],
 "metadata": {
  "kernelspec": {
   "display_name": "Python 3",
   "language": "python",
   "name": "python3"
  },
  "language_info": {
   "codemirror_mode": {
    "name": "ipython",
    "version": 3
   },
   "file_extension": ".py",
   "mimetype": "text/x-python",
   "name": "python",
   "nbconvert_exporter": "python",
   "pygments_lexer": "ipython3",
   "version": "3.13.0"
  }
 },
 "nbformat": 4,
 "nbformat_minor": 5
}
